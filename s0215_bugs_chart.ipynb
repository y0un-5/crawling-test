{
 "cells": [
  {
   "cell_type": "code",
   "execution_count": 256,
   "id": "tutorial-aquarium",
   "metadata": {},
   "outputs": [],
   "source": [
    "# -*- encoding: utf-8 -*-\n",
    "\n",
    "import requests\n",
    "from bs4 import BeautifulSoup\n",
    "\n",
    "import urllib.request\n",
    "\n",
    "import csv\n",
    "\n",
    "import os\n",
    "\n",
    "import re"
   ]
  },
  {
   "cell_type": "code",
   "execution_count": 257,
   "id": "prospective-contractor",
   "metadata": {},
   "outputs": [
    {
     "name": "stdout",
     "output_type": "stream",
     "text": [
      "검색 할 날짜:[YYYYMMDD]: 20190813\n"
     ]
    }
   ],
   "source": [
    "date = input(\"검색 할 날짜:[YYYYMMDD]: \")\n",
    "path = f\".\\{date}\"\n",
    "os.mkdir(path)\n",
    "imgpath = f\".\\{date}\\img\"\n",
    "os.mkdir(imgpath)\n",
    "url = f\"https://music.bugs.co.kr/chart/track/realtime/total?chartdate={date}\""
   ]
  },
  {
   "cell_type": "code",
   "execution_count": 258,
   "id": "coordinated-fortune",
   "metadata": {},
   "outputs": [
    {
     "data": {
      "text/plain": [
       "'text/html;charset=UTF-8'"
      ]
     },
     "execution_count": 258,
     "metadata": {},
     "output_type": "execute_result"
    }
   ],
   "source": [
    "response = requests.get(url)\n",
    "response.headers['Content-Type']"
   ]
  },
  {
   "cell_type": "code",
   "execution_count": 259,
   "id": "alien-graphics",
   "metadata": {},
   "outputs": [],
   "source": [
    "text = response.text\n",
    "html = BeautifulSoup(text, 'html.parser')"
   ]
  },
  {
   "cell_type": "code",
   "execution_count": 260,
   "id": "voluntary-concentrate",
   "metadata": {},
   "outputs": [
    {
     "data": {
      "text/plain": [
       "99"
      ]
     },
     "execution_count": 260,
     "metadata": {},
     "output_type": "execute_result"
    }
   ],
   "source": [
    "tr_list = html.find(\"table\", {\"class\":\"list\"}).find(\"tbody\").find_all(\"tr\")\n",
    "len(tr_list)"
   ]
  },
  {
   "cell_type": "code",
   "execution_count": 261,
   "id": "english-means",
   "metadata": {},
   "outputs": [
    {
     "name": "stdout",
     "output_type": "stream",
     "text": [
      "['1', '2', '3', '4', '5', '6', '7', '8', '9', '10', '11', '12', '13', '14', '15', '16', '17', '18', '19', '20', '21', '22', '23', '24', '25', '26', '27', '28', '29', '30', '31', '32', '33', '34', '35', '36', '37', '38', '39', '40', '41', '42', '43', '44', '45', '46', '47', '48', '49', '50', '51', '52', '53', '54', '55', '56', '57', '58', '59', '60', '61', '62', '63', '64', '65', '66', '67', '68', '69', '70', '71', '73', '74', '75', '76', '77', '78', '79', '80', '81', '82', '83', '84', '85', '86', '87', '88', '89', '90', '91', '92', '93', '94', '95', '96', '97', '98', '99', '100']\n"
     ]
    }
   ],
   "source": [
    "rankings = []\n",
    "for tr in tr_list:\n",
    "    ranking = tr.find(\"div\", {\"class\":\"ranking\"}).find(\"strong\").text.strip()\n",
    "    rankings.append(ranking)\n",
    "print(rankings)"
   ]
  },
  {
   "cell_type": "code",
   "execution_count": 262,
   "id": "nonprofit-handle",
   "metadata": {},
   "outputs": [
    {
     "name": "stdout",
     "output_type": "stream",
     "text": [
      "['안녕', '내 목소리 들리니', '기억해줘요 내 모든 날과 그때를', '그대라는 시', 'ICY', '나의 어깨에 기대어요', '방에 모기가 있어 (Do You Think Of Me?)', \"fuck, i'm lonely (feat. Anne-Marie)\", '내 맘을 볼 수 있나요', '오늘도 빛나는 너에게 (To You My Light) (Feat.이라온)', '그 끝에 그대', 'BUNGEE (Fall in Love)', '어떤 별보다', 'Señorita', '니 소식', '술이 문제야', 'Another Day', '포장마차', '2002', '헤어져줘서 고마워', 'Speechless (Full)', '너만 너만 너만', 'Snapping', '사랑에 연습이 있었다면 (Prod. 2soo)', '비가 내리는 날에는', '솔직하게 말해서 나', 'bad guy', '시든 꽃에 물을 주듯', '작은 것들을 위한 시 (Boy With Luv) (Feat. Halsey)', '사랑이 식었다고 말해도 돼', '인사', 'A Whole New World', 'Blue (Feat. Crush, SOLE)', \"We don't talk together (Feat. 기리보이) (Prod. SUGA)\", '사계 (Four Seasons)', '너에게 못했던 내 마지막 말은', '한 페이지가 될 수 있게', '모든 날, 모든 순간 (Every day, Every Moment)', '열대야 (Fever)', 'Uh-Oh', '[19금]\\nBAND', '헤어질 걸 알아', '달라달라', '가라사대', 'U GOT IT', \"괜찮아도 괜찮아 (That's okay)\", \"I Don't Care\", 'Paris In The Rain', '너를 만나', 'FANCY', '내 안부', 'Summer Days (feat. Macklemore & Patrick Stump of Fall Out Boy) (feat. Macklemore, Patrick Stump) (시몬스 침대 광고 삽입곡)', 'boyfriend', 'Chica', '주저하는 연인들을 위해', '아퍼 (Feat. Kid Milli, Lil tachi, 김승민, NO:EL, C JAMM)', '노래방에서', '허물 (feat. 서리(Seori))', \"If I Can't Have You\", '그때가 좋았어', \"i'm so tired...\", '밤편지', '짐살라빔 (Zimzalabim)', 'Sunflower (Spider-Man: Into the Spider-Verse)', 'BIRTHDAY', '비', '다섯 번째 계절 (SSFWL)', '이뻐이뻐 (Pretty girl)', 'Arabian Nights (2019)', 'Way Back Home', '서울 밤 (feat. 빈지노)', '다 빛이나 (Gleam)', '교통정리 (Feat. 헤이즈)', '벌써 12시', 'comethru', 'Goodbyes (feat. Young Thug)', '대충 입고 나와', '비워 (Beer) (Prod. Way Ched)', '움직여 (MOVE) (Prod. by ZICO)', 'HIT', '아로하', '비올레타', '옥탑방 (Rooftop)', '그건 아마 우리의 잘못은 아닐 거야', '나만, 봄', '비오는 날 뭐해', 'Prince Ali', 'Kill This Love', 'BOOM', 'Goodbye', '[권리없는 곡]\\nSucker', '조금 더 외로워지겠지', '오늘 밤에', '별 보러 갈래?', 'UN Village', '여행', 'Friend Like Me', '사계 (하루살이)', 'Dancing With A Stranger']\n"
     ]
    }
   ],
   "source": [
    "songs = []\n",
    "for tr in tr_list:\n",
    "    song = tr.find(\"p\", {\"class\":\"title\"}).text.strip()\n",
    "    songs.append(song)\n",
    "print(songs)"
   ]
  },
  {
   "cell_type": "code",
   "execution_count": 263,
   "id": "diverse-campaign",
   "metadata": {},
   "outputs": [
    {
     "name": "stdout",
     "output_type": "stream",
     "text": [
      "['폴킴(Paul Kim)', '벤', '거미', '태연 (TAEYEON)', 'ITZY (있지)', '10CM', '10CM', 'Lauv(라우브)', '헤이즈(Heize)', '마크툽(MAKTUB)', '청하', '오마이걸(OH MY GIRL)', 'Red Velvet (레드벨벳)', 'Shawn Mendes(션 멘데스)', '송하예', '장혜진', '먼데이 키즈(Monday Kiz)', '황인욱', 'Anne-Marie(앤 마리)', '벤', 'Naomi Scott', '양다일', '청하', '임재현', '윤하(Younha/ユンナ)', '김나영', 'Billie Eilish(빌리 아일리시)', 'HYNN(박혜원)', '방탄소년단', '먼데이 키즈(Monday Kiz)', '멜로망스(MeloMance)', 'Mena Massoud', '다이나믹 듀오', '헤이즈(Heize)', '태연 (TAEYEON)', '다비치', 'DAY6 (데이식스)', '폴킴(Paul Kim)', '여자친구(GFRIEND)', '(여자)아이들', '창모(CHANGMO)', '폴킴(Paul Kim)', 'ITZY (있지)', '비와이(BewhY)', '갓츄 (GOT U)', '디오 (D.O.)', 'Ed Sheeran(에드 시런)', 'Lauv(라우브)', '폴킴(Paul Kim)', 'TWICE (트와이스)', '이우', 'Martin Garrix(마틴 개릭스)', 'Ariana Grande(아리아나 그란데)', '청하', '잔나비', '기리보이', '장범준', '빈첸', 'Shawn Mendes(션 멘데스)', '케이시', 'Lauv(라우브)', '아이유(IU)', 'Red Velvet (레드벨벳)', 'Post Malone(포스트 말론)', '전소미', '폴킴(Paul Kim)', '오마이걸(OH MY GIRL)', '크레파스', 'Will Smith(윌 스미스)', '숀(SHAUN)', '어반자카파', '마마무(Mamamoo)', '기리보이', '청하', 'Jeremy Zucker', 'Post Malone(포스트 말론)', '우디(Woody)', '창모(CHANGMO)', 'SIXC (6 crazy)', '세븐틴(Seventeen)', '다비치', 'IZ*ONE(아이즈원)', '엔플라잉(N.Flying)', '백예린 (Yerin Baek)', '볼빨간사춘기', '하은', 'Will Smith(윌 스미스)', 'BLACKPINK', 'NCT DREAM', '박효신', 'Jonas Brothers(조나스 브라더스)', '김나영', '홍진영', '볼빨간사춘기', '백현(BAEKHYUN)', '볼빨간사춘기', 'Will Smith(윌 스미스)', '엠씨더맥스 (M.C the MAX)', 'Sam Smith(샘 스미스)']\n"
     ]
    }
   ],
   "source": [
    "artists = []\n",
    "for tr in tr_list:\n",
    "    artist = tr.find(\"p\", {\"class\":\"artist\"}).find(\"a\").text.strip()\n",
    "    artists.append(artist)\n",
    "print(artists)"
   ]
  },
  {
   "cell_type": "code",
   "execution_count": 264,
   "id": "lightweight-improvement",
   "metadata": {},
   "outputs": [
    {
     "name": "stdout",
     "output_type": "stream",
     "text": [
      "['호텔 델루나 OST Part.10', '호텔 델루나 OST Part.9', '호텔 델루나 OST Part.7', '호텔 델루나 OST Part.3', \"IT'z ICY\", '호텔 델루나 OST Part.2', '방에 모기가 있어 (4.4)', \"fuck, i'm lonely (from “13 Reasons Why: Season 3”)\", '호텔 델루나 OST Part.5', 'Red Moon : To You My Light', '호텔 델루나 OST Part.6', 'FALL IN LOVE', '호텔 델루나 OST Part.8', 'Señorita', '니 소식', '술이 문제야', '호텔 델루나 OST Part.1', '포장마차', 'Speak Your Mind [Deluxe]', '헤어져줘서 고마워', '알라딘 (Aladdin) OST', '호텔 델루나 OST Part.4', 'Flourishing', '사랑에 연습이 있었다면', 'STABLE MINDSET', '솔직하게 말해서 나', 'WHEN WE ALL FALL ASLEEP, WHERE DO WE GO?', '시든 꽃에 물을 주듯', 'MAP OF THE SOUL : PERSONA', '사랑이 식었다고 말해도 돼', '인사', '알라딘 (Aladdin) OST', 'Blue', \"We don't talk together\", '사계 (Four Seasons)', '너에게 못했던 내 마지막 말은', 'The Book of Us : Gravity', \"'키스 먼저 할까요?' OST Part.3\", \"여자친구 The 7th Mini Album 'FEVER SEASON'\", 'Uh-Oh', 'BAND', '헤어질 걸 알아', \"IT'z Different\", 'The Movie Star', 'PRODUCE X 101 - 31 Boys 5 Concepts', \"괜찮아도 괜찮아 (That's okay) - SM STATION\", 'No.6 Collaborations Project', 'I met you when I was 18. (the playlist)', '너를 만나', 'FANCY YOU', '내 안부', 'Summer Days (feat. Macklemore & Patrick Stump of Fall Out Boy)', 'boyfriend', 'Flourishing', '전설', '100년제전문대학', '장범준 3집', '허물 (feat.서리 (Seori))', \"If I Can't Have You\", '그때가 좋았어', \"i'm so tired...\", '밤편지', '‘The ReVe Festival’ Day 1', '스파이더맨: 뉴 유니버스 (Spider-Man: Into The Spider-Verse) OST', 'BIRTHDAY', '비', 'THE FIFTH SEASON', 'PRODUCE X 101 - 31 Boys 5 Concepts', '알라딘 (Aladdin) OST', 'Take', '서울 밤', '다 빛이나', '교통정리', '벌써 12시', 'summer,', 'Goodbyes', '대충 입고 나와', 'Dingo X Ambition Musik', 'PRODUCE X 101 - 31 Boys 5 Concepts', 'HIT', \"[Vol.27] 유희열의 스케치북 10주년 프로젝트 : 열두 번째 목소리 '유스케 X 다비치'\", 'HEART*IZ', \"FLY HIGH PROJECT #2 '옥탑방'\", 'Our love is great', '사춘기집Ⅰ 꽃기운', '비오는 날 뭐해', '알라딘 (Aladdin) OST', 'KILL THIS LOVE', 'We Boom - The 3rd Mini Album', 'Goodbye', 'Sucker', '검색어를 입력하세요 WWW OST Part 7', 'Lots of Love', '사춘기집Ⅰ 꽃기운', 'City Lights - The 1st Mini Album', 'Red Diary Page.2', '알라딘 (Aladdin) OST', 'Circular', 'Dancing With A Stranger']\n"
     ]
    }
   ],
   "source": [
    "albums = []\n",
    "for tr in tr_list:\n",
    "    try:\n",
    "        album = tr.find(\"a\", {\"class\":\"album\"}).text.strip()\n",
    "        albums.append(album)\n",
    "    except:\n",
    "        album = tr.find(\"span\", {\"class\":\"album\"}).text.strip()\n",
    "        albums.append(album)\n",
    "print(albums)"
   ]
  },
  {
   "cell_type": "code",
   "execution_count": 265,
   "id": "further-break",
   "metadata": {},
   "outputs": [
    {
     "name": "stdout",
     "output_type": "stream",
     "text": [
      "1 안녕 폴킴(Paul Kim) 호텔 델루나 OST Part.10\n",
      "2 내 목소리 들리니 벤 호텔 델루나 OST Part.9\n",
      "3 기억해줘요 내 모든 날과 그때를 거미 호텔 델루나 OST Part.7\n",
      "4 그대라는 시 태연 (TAEYEON) 호텔 델루나 OST Part.3\n",
      "5 ICY ITZY (있지) IT'z ICY\n",
      "6 나의 어깨에 기대어요 10CM 호텔 델루나 OST Part.2\n",
      "7 방에 모기가 있어 (Do You Think Of Me?) 10CM 방에 모기가 있어 (4.4)\n",
      "8 fuck, i'm lonely (feat. Anne-Marie) Lauv(라우브) fuck, i'm lonely (from “13 Reasons Why: Season 3”)\n",
      "9 내 맘을 볼 수 있나요 헤이즈(Heize) 호텔 델루나 OST Part.5\n",
      "10 오늘도 빛나는 너에게 (To You My Light) (Feat.이라온) 마크툽(MAKTUB) Red Moon : To You My Light\n",
      "11 그 끝에 그대 청하 호텔 델루나 OST Part.6\n",
      "12 BUNGEE (Fall in Love) 오마이걸(OH MY GIRL) FALL IN LOVE\n",
      "13 어떤 별보다 Red Velvet (레드벨벳) 호텔 델루나 OST Part.8\n",
      "14 Señorita Shawn Mendes(션 멘데스) Señorita\n",
      "15 니 소식 송하예 니 소식\n",
      "16 술이 문제야 장혜진 술이 문제야\n",
      "17 Another Day 먼데이 키즈(Monday Kiz) 호텔 델루나 OST Part.1\n",
      "18 포장마차 황인욱 포장마차\n",
      "19 2002 Anne-Marie(앤 마리) Speak Your Mind [Deluxe]\n",
      "20 헤어져줘서 고마워 벤 헤어져줘서 고마워\n",
      "21 Speechless (Full) Naomi Scott 알라딘 (Aladdin) OST\n",
      "22 너만 너만 너만 양다일 호텔 델루나 OST Part.4\n",
      "23 Snapping 청하 Flourishing\n",
      "24 사랑에 연습이 있었다면 (Prod. 2soo) 임재현 사랑에 연습이 있었다면\n",
      "25 비가 내리는 날에는 윤하(Younha/ユンナ) STABLE MINDSET\n",
      "26 솔직하게 말해서 나 김나영 솔직하게 말해서 나\n",
      "27 bad guy Billie Eilish(빌리 아일리시) WHEN WE ALL FALL ASLEEP, WHERE DO WE GO?\n",
      "28 시든 꽃에 물을 주듯 HYNN(박혜원) 시든 꽃에 물을 주듯\n",
      "29 작은 것들을 위한 시 (Boy With Luv) (Feat. Halsey) 방탄소년단 MAP OF THE SOUL : PERSONA\n",
      "30 사랑이 식었다고 말해도 돼 먼데이 키즈(Monday Kiz) 사랑이 식었다고 말해도 돼\n",
      "31 인사 멜로망스(MeloMance) 인사\n",
      "32 A Whole New World Mena Massoud 알라딘 (Aladdin) OST\n",
      "33 Blue (Feat. Crush, SOLE) 다이나믹 듀오 Blue\n",
      "34 We don't talk together (Feat. 기리보이) (Prod. SUGA) 헤이즈(Heize) We don't talk together\n",
      "35 사계 (Four Seasons) 태연 (TAEYEON) 사계 (Four Seasons)\n",
      "36 너에게 못했던 내 마지막 말은 다비치 너에게 못했던 내 마지막 말은\n",
      "37 한 페이지가 될 수 있게 DAY6 (데이식스) The Book of Us : Gravity\n",
      "38 모든 날, 모든 순간 (Every day, Every Moment) 폴킴(Paul Kim) '키스 먼저 할까요?' OST Part.3\n",
      "39 열대야 (Fever) 여자친구(GFRIEND) 여자친구 The 7th Mini Album 'FEVER SEASON'\n",
      "40 Uh-Oh (여자)아이들 Uh-Oh\n",
      "41 [19금]\n",
      "BAND 창모(CHANGMO) BAND\n",
      "42 헤어질 걸 알아 폴킴(Paul Kim) 헤어질 걸 알아\n",
      "43 달라달라 ITZY (있지) IT'z Different\n",
      "44 가라사대 비와이(BewhY) The Movie Star\n",
      "45 U GOT IT 갓츄 (GOT U) PRODUCE X 101 - 31 Boys 5 Concepts\n",
      "46 괜찮아도 괜찮아 (That's okay) 디오 (D.O.) 괜찮아도 괜찮아 (That's okay) - SM STATION\n",
      "47 I Don't Care Ed Sheeran(에드 시런) No.6 Collaborations Project\n",
      "48 Paris In The Rain Lauv(라우브) I met you when I was 18. (the playlist)\n",
      "49 너를 만나 폴킴(Paul Kim) 너를 만나\n",
      "50 FANCY TWICE (트와이스) FANCY YOU\n",
      "51 내 안부 이우 내 안부\n",
      "52 Summer Days (feat. Macklemore & Patrick Stump of Fall Out Boy) (feat. Macklemore, Patrick Stump) (시몬스 침대 광고 삽입곡) Martin Garrix(마틴 개릭스) Summer Days (feat. Macklemore & Patrick Stump of Fall Out Boy)\n",
      "53 boyfriend Ariana Grande(아리아나 그란데) boyfriend\n",
      "54 Chica 청하 Flourishing\n",
      "55 주저하는 연인들을 위해 잔나비 전설\n",
      "56 아퍼 (Feat. Kid Milli, Lil tachi, 김승민, NO:EL, C JAMM) 기리보이 100년제전문대학\n",
      "57 노래방에서 장범준 장범준 3집\n",
      "58 허물 (feat. 서리(Seori)) 빈첸 허물 (feat.서리 (Seori))\n",
      "59 If I Can't Have You Shawn Mendes(션 멘데스) If I Can't Have You\n",
      "60 그때가 좋았어 케이시 그때가 좋았어\n",
      "61 i'm so tired... Lauv(라우브) i'm so tired...\n",
      "62 밤편지 아이유(IU) 밤편지\n",
      "63 짐살라빔 (Zimzalabim) Red Velvet (레드벨벳) ‘The ReVe Festival’ Day 1\n",
      "64 Sunflower (Spider-Man: Into the Spider-Verse) Post Malone(포스트 말론) 스파이더맨: 뉴 유니버스 (Spider-Man: Into The Spider-Verse) OST\n",
      "65 BIRTHDAY 전소미 BIRTHDAY\n",
      "66 비 폴킴(Paul Kim) 비\n",
      "67 다섯 번째 계절 (SSFWL) 오마이걸(OH MY GIRL) THE FIFTH SEASON\n",
      "68 이뻐이뻐 (Pretty girl) 크레파스 PRODUCE X 101 - 31 Boys 5 Concepts\n",
      "69 Arabian Nights (2019) Will Smith(윌 스미스) 알라딘 (Aladdin) OST\n",
      "70 Way Back Home 숀(SHAUN) Take\n",
      "71 서울 밤 (feat. 빈지노) 어반자카파 서울 밤\n",
      "73 다 빛이나 (Gleam) 마마무(Mamamoo) 다 빛이나\n",
      "74 교통정리 (Feat. 헤이즈) 기리보이 교통정리\n",
      "75 벌써 12시 청하 벌써 12시\n",
      "76 comethru Jeremy Zucker summer,\n",
      "77 Goodbyes (feat. Young Thug) Post Malone(포스트 말론) Goodbyes\n",
      "78 대충 입고 나와 우디(Woody) 대충 입고 나와\n",
      "79 비워 (Beer) (Prod. Way Ched) 창모(CHANGMO) Dingo X Ambition Musik\n",
      "80 움직여 (MOVE) (Prod. by ZICO) SIXC (6 crazy) PRODUCE X 101 - 31 Boys 5 Concepts\n",
      "81 HIT 세븐틴(Seventeen) HIT\n",
      "82 아로하 다비치 [Vol.27] 유희열의 스케치북 10주년 프로젝트 : 열두 번째 목소리 '유스케 X 다비치'\n",
      "83 비올레타 IZ*ONE(아이즈원) HEART*IZ\n",
      "84 옥탑방 (Rooftop) 엔플라잉(N.Flying) FLY HIGH PROJECT #2 '옥탑방'\n",
      "85 그건 아마 우리의 잘못은 아닐 거야 백예린 (Yerin Baek) Our love is great\n",
      "86 나만, 봄 볼빨간사춘기 사춘기집Ⅰ 꽃기운\n",
      "87 비오는 날 뭐해 하은 비오는 날 뭐해\n",
      "88 Prince Ali Will Smith(윌 스미스) 알라딘 (Aladdin) OST\n",
      "89 Kill This Love BLACKPINK KILL THIS LOVE\n",
      "90 BOOM NCT DREAM We Boom - The 3rd Mini Album\n",
      "91 Goodbye 박효신 Goodbye\n",
      "92 [권리없는 곡]\n",
      "Sucker Jonas Brothers(조나스 브라더스) Sucker\n",
      "93 조금 더 외로워지겠지 김나영 검색어를 입력하세요 WWW OST Part 7\n",
      "94 오늘 밤에 홍진영 Lots of Love\n",
      "95 별 보러 갈래? 볼빨간사춘기 사춘기집Ⅰ 꽃기운\n",
      "96 UN Village 백현(BAEKHYUN) City Lights - The 1st Mini Album\n",
      "97 여행 볼빨간사춘기 Red Diary Page.2\n",
      "98 Friend Like Me Will Smith(윌 스미스) 알라딘 (Aladdin) OST\n",
      "99 사계 (하루살이) 엠씨더맥스 (M.C the MAX) Circular\n",
      "100 Dancing With A Stranger Sam Smith(샘 스미스) Dancing With A Stranger\n",
      "[['1', '안녕', '폴킴(Paul Kim)', '호텔 델루나 OST Part.10'], ['2', '내 목소리 들리니', '벤', '호텔 델루나 OST Part.9'], ['3', '기억해줘요 내 모든 날과 그때를', '거미', '호텔 델루나 OST Part.7'], ['4', '그대라는 시', '태연 (TAEYEON)', '호텔 델루나 OST Part.3'], ['5', 'ICY', 'ITZY (있지)', \"IT'z ICY\"], ['6', '나의 어깨에 기대어요', '10CM', '호텔 델루나 OST Part.2'], ['7', '방에 모기가 있어 (Do You Think Of Me?)', '10CM', '방에 모기가 있어 (4.4)'], ['8', \"fuck, i'm lonely (feat. Anne-Marie)\", 'Lauv(라우브)', \"fuck, i'm lonely (from “13 Reasons Why: Season 3”)\"], ['9', '내 맘을 볼 수 있나요', '헤이즈(Heize)', '호텔 델루나 OST Part.5'], ['10', '오늘도 빛나는 너에게 (To You My Light) (Feat.이라온)', '마크툽(MAKTUB)', 'Red Moon : To You My Light'], ['11', '그 끝에 그대', '청하', '호텔 델루나 OST Part.6'], ['12', 'BUNGEE (Fall in Love)', '오마이걸(OH MY GIRL)', 'FALL IN LOVE'], ['13', '어떤 별보다', 'Red Velvet (레드벨벳)', '호텔 델루나 OST Part.8'], ['14', 'Señorita', 'Shawn Mendes(션 멘데스)', 'Señorita'], ['15', '니 소식', '송하예', '니 소식'], ['16', '술이 문제야', '장혜진', '술이 문제야'], ['17', 'Another Day', '먼데이 키즈(Monday Kiz)', '호텔 델루나 OST Part.1'], ['18', '포장마차', '황인욱', '포장마차'], ['19', '2002', 'Anne-Marie(앤 마리)', 'Speak Your Mind [Deluxe]'], ['20', '헤어져줘서 고마워', '벤', '헤어져줘서 고마워'], ['21', 'Speechless (Full)', 'Naomi Scott', '알라딘 (Aladdin) OST'], ['22', '너만 너만 너만', '양다일', '호텔 델루나 OST Part.4'], ['23', 'Snapping', '청하', 'Flourishing'], ['24', '사랑에 연습이 있었다면 (Prod. 2soo)', '임재현', '사랑에 연습이 있었다면'], ['25', '비가 내리는 날에는', '윤하(Younha/ユンナ)', 'STABLE MINDSET'], ['26', '솔직하게 말해서 나', '김나영', '솔직하게 말해서 나'], ['27', 'bad guy', 'Billie Eilish(빌리 아일리시)', 'WHEN WE ALL FALL ASLEEP, WHERE DO WE GO?'], ['28', '시든 꽃에 물을 주듯', 'HYNN(박혜원)', '시든 꽃에 물을 주듯'], ['29', '작은 것들을 위한 시 (Boy With Luv) (Feat. Halsey)', '방탄소년단', 'MAP OF THE SOUL : PERSONA'], ['30', '사랑이 식었다고 말해도 돼', '먼데이 키즈(Monday Kiz)', '사랑이 식었다고 말해도 돼'], ['31', '인사', '멜로망스(MeloMance)', '인사'], ['32', 'A Whole New World', 'Mena Massoud', '알라딘 (Aladdin) OST'], ['33', 'Blue (Feat. Crush, SOLE)', '다이나믹 듀오', 'Blue'], ['34', \"We don't talk together (Feat. 기리보이) (Prod. SUGA)\", '헤이즈(Heize)', \"We don't talk together\"], ['35', '사계 (Four Seasons)', '태연 (TAEYEON)', '사계 (Four Seasons)'], ['36', '너에게 못했던 내 마지막 말은', '다비치', '너에게 못했던 내 마지막 말은'], ['37', '한 페이지가 될 수 있게', 'DAY6 (데이식스)', 'The Book of Us : Gravity'], ['38', '모든 날, 모든 순간 (Every day, Every Moment)', '폴킴(Paul Kim)', \"'키스 먼저 할까요?' OST Part.3\"], ['39', '열대야 (Fever)', '여자친구(GFRIEND)', \"여자친구 The 7th Mini Album 'FEVER SEASON'\"], ['40', 'Uh-Oh', '(여자)아이들', 'Uh-Oh'], ['41', '[19금]\\nBAND', '창모(CHANGMO)', 'BAND'], ['42', '헤어질 걸 알아', '폴킴(Paul Kim)', '헤어질 걸 알아'], ['43', '달라달라', 'ITZY (있지)', \"IT'z Different\"], ['44', '가라사대', '비와이(BewhY)', 'The Movie Star'], ['45', 'U GOT IT', '갓츄 (GOT U)', 'PRODUCE X 101 - 31 Boys 5 Concepts'], ['46', \"괜찮아도 괜찮아 (That's okay)\", '디오 (D.O.)', \"괜찮아도 괜찮아 (That's okay) - SM STATION\"], ['47', \"I Don't Care\", 'Ed Sheeran(에드 시런)', 'No.6 Collaborations Project'], ['48', 'Paris In The Rain', 'Lauv(라우브)', 'I met you when I was 18. (the playlist)'], ['49', '너를 만나', '폴킴(Paul Kim)', '너를 만나'], ['50', 'FANCY', 'TWICE (트와이스)', 'FANCY YOU'], ['51', '내 안부', '이우', '내 안부'], ['52', 'Summer Days (feat. Macklemore & Patrick Stump of Fall Out Boy) (feat. Macklemore, Patrick Stump) (시몬스 침대 광고 삽입곡)', 'Martin Garrix(마틴 개릭스)', 'Summer Days (feat. Macklemore & Patrick Stump of Fall Out Boy)'], ['53', 'boyfriend', 'Ariana Grande(아리아나 그란데)', 'boyfriend'], ['54', 'Chica', '청하', 'Flourishing'], ['55', '주저하는 연인들을 위해', '잔나비', '전설'], ['56', '아퍼 (Feat. Kid Milli, Lil tachi, 김승민, NO:EL, C JAMM)', '기리보이', '100년제전문대학'], ['57', '노래방에서', '장범준', '장범준 3집'], ['58', '허물 (feat. 서리(Seori))', '빈첸', '허물 (feat.서리 (Seori))'], ['59', \"If I Can't Have You\", 'Shawn Mendes(션 멘데스)', \"If I Can't Have You\"], ['60', '그때가 좋았어', '케이시', '그때가 좋았어'], ['61', \"i'm so tired...\", 'Lauv(라우브)', \"i'm so tired...\"], ['62', '밤편지', '아이유(IU)', '밤편지'], ['63', '짐살라빔 (Zimzalabim)', 'Red Velvet (레드벨벳)', '‘The ReVe Festival’ Day 1'], ['64', 'Sunflower (Spider-Man: Into the Spider-Verse)', 'Post Malone(포스트 말론)', '스파이더맨: 뉴 유니버스 (Spider-Man: Into The Spider-Verse) OST'], ['65', 'BIRTHDAY', '전소미', 'BIRTHDAY'], ['66', '비', '폴킴(Paul Kim)', '비'], ['67', '다섯 번째 계절 (SSFWL)', '오마이걸(OH MY GIRL)', 'THE FIFTH SEASON'], ['68', '이뻐이뻐 (Pretty girl)', '크레파스', 'PRODUCE X 101 - 31 Boys 5 Concepts'], ['69', 'Arabian Nights (2019)', 'Will Smith(윌 스미스)', '알라딘 (Aladdin) OST'], ['70', 'Way Back Home', '숀(SHAUN)', 'Take'], ['71', '서울 밤 (feat. 빈지노)', '어반자카파', '서울 밤'], ['73', '다 빛이나 (Gleam)', '마마무(Mamamoo)', '다 빛이나'], ['74', '교통정리 (Feat. 헤이즈)', '기리보이', '교통정리'], ['75', '벌써 12시', '청하', '벌써 12시'], ['76', 'comethru', 'Jeremy Zucker', 'summer,'], ['77', 'Goodbyes (feat. Young Thug)', 'Post Malone(포스트 말론)', 'Goodbyes'], ['78', '대충 입고 나와', '우디(Woody)', '대충 입고 나와'], ['79', '비워 (Beer) (Prod. Way Ched)', '창모(CHANGMO)', 'Dingo X Ambition Musik'], ['80', '움직여 (MOVE) (Prod. by ZICO)', 'SIXC (6 crazy)', 'PRODUCE X 101 - 31 Boys 5 Concepts'], ['81', 'HIT', '세븐틴(Seventeen)', 'HIT'], ['82', '아로하', '다비치', \"[Vol.27] 유희열의 스케치북 10주년 프로젝트 : 열두 번째 목소리 '유스케 X 다비치'\"], ['83', '비올레타', 'IZ*ONE(아이즈원)', 'HEART*IZ'], ['84', '옥탑방 (Rooftop)', '엔플라잉(N.Flying)', \"FLY HIGH PROJECT #2 '옥탑방'\"], ['85', '그건 아마 우리의 잘못은 아닐 거야', '백예린 (Yerin Baek)', 'Our love is great'], ['86', '나만, 봄', '볼빨간사춘기', '사춘기집Ⅰ 꽃기운'], ['87', '비오는 날 뭐해', '하은', '비오는 날 뭐해'], ['88', 'Prince Ali', 'Will Smith(윌 스미스)', '알라딘 (Aladdin) OST'], ['89', 'Kill This Love', 'BLACKPINK', 'KILL THIS LOVE'], ['90', 'BOOM', 'NCT DREAM', 'We Boom - The 3rd Mini Album'], ['91', 'Goodbye', '박효신', 'Goodbye'], ['92', '[권리없는 곡]\\nSucker', 'Jonas Brothers(조나스 브라더스)', 'Sucker'], ['93', '조금 더 외로워지겠지', '김나영', '검색어를 입력하세요 WWW OST Part 7'], ['94', '오늘 밤에', '홍진영', 'Lots of Love'], ['95', '별 보러 갈래?', '볼빨간사춘기', '사춘기집Ⅰ 꽃기운'], ['96', 'UN Village', '백현(BAEKHYUN)', 'City Lights - The 1st Mini Album'], ['97', '여행', '볼빨간사춘기', 'Red Diary Page.2'], ['98', 'Friend Like Me', 'Will Smith(윌 스미스)', '알라딘 (Aladdin) OST'], ['99', '사계 (하루살이)', '엠씨더맥스 (M.C the MAX)', 'Circular'], ['100', 'Dancing With A Stranger', 'Sam Smith(샘 스미스)', 'Dancing With A Stranger']]\n"
     ]
    }
   ],
   "source": [
    "total_ranks = []\n",
    "for x, y, z, a in zip(rankings, songs, artists, albums):\n",
    "    total_rank = [x, y, z, a]\n",
    "    total_ranks.append(total_rank)\n",
    "    print(x, y, z, a)\n",
    "print(total_ranks)"
   ]
  },
  {
   "cell_type": "code",
   "execution_count": 266,
   "id": "circular-latex",
   "metadata": {},
   "outputs": [],
   "source": [
    "columns = [\"랭킹\", \"제목\", \"가수\", \"앨범\"]\n",
    "wfile = open(f\"{date}/total_rank.csv\", \"w\", newline=\"\", encoding=\"UTF-8-sig\")\n",
    "csvfile = csv.writer(wfile)\n",
    "csvfile.writerow(columns)\n",
    "csvfile.writerows(total_ranks)\n",
    "wfile.close()"
   ]
  },
  {
   "cell_type": "code",
   "execution_count": 267,
   "id": "corrected-coupon",
   "metadata": {},
   "outputs": [
    {
     "data": {
      "text/plain": [
       "['https://image.bugsm.co.kr/album/images/50/202708/20270833.jpg?version=20200401043337.0',\n",
       " 'https://image.bugsm.co.kr/album/images/50/202704/20270473.jpg?version=20200401043335.0',\n",
       " 'https://image.bugsm.co.kr/album/images/50/202693/20269306.jpg?version=20200401043331.0',\n",
       " 'https://image.bugsm.co.kr/album/images/50/202667/20266778.jpg?version=20200401043322.0',\n",
       " 'https://image.bugsm.co.kr/album/images/50/202683/20268357.jpg?version=20190731003148.0',\n",
       " 'https://image.bugsm.co.kr/album/images/50/202667/20266760.jpg?version=20200401043321.0',\n",
       " 'https://image.bugsm.co.kr/album/images/50/202697/20269780.jpg?version=20200401043333.0',\n",
       " 'https://image.bugsm.co.kr/album/images/50/9142/914235.jpg?version=20200307002308.0',\n",
       " 'https://image.bugsm.co.kr/album/images/50/202680/20268065.jpg?version=20200401043327.0',\n",
       " 'https://image.bugsm.co.kr/album/images/50/8920/892073.jpg?version=20210112143126.0',\n",
       " 'https://image.bugsm.co.kr/album/images/50/202693/20269359.jpg?version=20200401043331.0',\n",
       " 'https://image.bugsm.co.kr/album/images/50/202696/20269643.jpg?version=20210205002538.0',\n",
       " 'https://image.bugsm.co.kr/album/images/50/202704/20270472.jpg?version=20200401043335.0',\n",
       " 'https://image.bugsm.co.kr/album/images/50/8979/897933.jpg?version=20200804002909.0',\n",
       " 'https://image.bugsm.co.kr/album/images/50/202526/20252653.jpg?version=20200401043231.0',\n",
       " 'https://image.bugsm.co.kr/album/images/50/202602/20260239.jpg?version=20200629172111.0',\n",
       " 'https://image.bugsm.co.kr/album/images/50/202654/20265451.jpg?version=20200401043317.0',\n",
       " 'https://image.bugsm.co.kr/album/images/50/8960/896053.jpg?version=20190629004302.0',\n",
       " 'https://image.bugsm.co.kr/album/images/50/7106/710656.jpg?version=20210203133352.0',\n",
       " 'https://image.bugsm.co.kr/album/images/50/202635/20263533.jpg?version=20190731055645.0',\n",
       " 'https://image.bugsm.co.kr/album/images/50/8855/885512.jpg?version=20210114002529.0',\n",
       " 'https://image.bugsm.co.kr/album/images/50/202680/20268051.jpg?version=20200401043326.0',\n",
       " 'https://image.bugsm.co.kr/album/images/50/202618/20261844.jpg?version=20190910050537.0',\n",
       " 'https://image.bugsm.co.kr/album/images/50/201963/20196331.jpg?version=20200401042938.0',\n",
       " 'https://image.bugsm.co.kr/album/images/50/202635/20263539.jpg?version=20200401043310.0',\n",
       " 'https://image.bugsm.co.kr/album/images/50/202588/20258846.jpg?version=20200401043252.0',\n",
       " 'https://image.bugsm.co.kr/album/images/50/8673/867317.jpg?version=20201128002346.0',\n",
       " 'https://image.bugsm.co.kr/album/images/50/202421/20242177.jpg?version=20200401043201.0',\n",
       " 'https://image.bugsm.co.kr/album/images/50/202460/20246036.jpg?version=20200226002242.0',\n",
       " 'https://image.bugsm.co.kr/album/images/50/202563/20256347.jpg?version=20200401043243.0',\n",
       " 'https://image.bugsm.co.kr/album/images/50/202647/20264772.jpg?version=20200401043314.0',\n",
       " 'https://image.bugsm.co.kr/album/images/50/8855/885512.jpg?version=20210114002529.0',\n",
       " 'https://image.bugsm.co.kr/album/images/50/202699/20269937.jpg?version=20201105002502.0',\n",
       " 'https://image.bugsm.co.kr/album/images/50/202642/20264276.jpg?version=20191015002253.0',\n",
       " 'https://image.bugsm.co.kr/album/images/50/202401/20240141.jpg?version=20190515005036.0',\n",
       " 'https://image.bugsm.co.kr/album/images/50/202540/20254003.jpg?version=20190910050452.0',\n",
       " 'https://image.bugsm.co.kr/album/images/50/202657/20265759.jpg?version=20190716101650.0',\n",
       " 'https://image.bugsm.co.kr/album/images/50/201547/20154722.jpg?version=20190515010725.0',\n",
       " 'https://image.bugsm.co.kr/album/images/50/202631/20263150.jpg?version=20200401043309.0',\n",
       " 'https://image.bugsm.co.kr/album/images/50/202625/20262506.jpg?version=20200401043306.0',\n",
       " 'https://image.bugsm.co.kr/album/images/50/202588/20258860.jpg?version=20201121002423.0',\n",
       " 'https://image.bugsm.co.kr/album/images/50/202652/20265202.jpg?version=20200401043316.0',\n",
       " 'https://image.bugsm.co.kr/album/images/50/202290/20229007.jpg?version=20190515011602.0',\n",
       " 'https://image.bugsm.co.kr/album/images/50/202415/20241522.jpg?version=20200401043158.0',\n",
       " 'https://image.bugsm.co.kr/album/images/50/202640/20264041.jpg?version=20190910050552.0',\n",
       " 'https://image.bugsm.co.kr/album/images/50/202628/20262800.jpg?version=20190702002458.0',\n",
       " 'https://image.bugsm.co.kr/album/images/50/8814/881494.jpg?version=20200109105609.0',\n",
       " 'https://image.bugsm.co.kr/album/images/50/8011/801190.jpg?version=20200504154234.0',\n",
       " 'https://image.bugsm.co.kr/album/images/50/202037/20203701.jpg?version=20200401043000.0',\n",
       " 'https://image.bugsm.co.kr/album/images/50/202482/20248246.jpg?version=20190423020645.0',\n",
       " 'https://image.bugsm.co.kr/album/images/50/202660/20266063.jpg?version=20201025181127.0',\n",
       " 'https://image.bugsm.co.kr/album/images/50/8772/877233.jpg?version=20200521002317.0',\n",
       " 'https://image.bugsm.co.kr/album/images/50/9147/914772.jpg?version=20191114202010.0',\n",
       " 'https://image.bugsm.co.kr/album/images/50/202618/20261844.jpg?version=20190910050537.0',\n",
       " 'https://image.bugsm.co.kr/album/images/50/202371/20237198.jpg?version=20200401043144.0',\n",
       " 'https://image.bugsm.co.kr/album/images/50/202592/20259200.jpg?version=20200401043254.0',\n",
       " 'https://image.bugsm.co.kr/album/images/50/202394/20239451.jpg?version=20200401043153.0',\n",
       " 'https://image.bugsm.co.kr/album/images/50/202704/20270476.jpg?version=20200401043335.0',\n",
       " 'https://image.bugsm.co.kr/album/images/50/8788/878881.jpg?version=20200329173005.0',\n",
       " 'https://image.bugsm.co.kr/album/images/50/202189/20218902.jpg?version=20200401043052.0',\n",
       " 'https://image.bugsm.co.kr/album/images/50/8449/844952.jpg?version=20200505002347.0',\n",
       " 'https://image.bugsm.co.kr/album/images/50/200890/20089092.jpg?version=20200401042357.0',\n",
       " 'https://image.bugsm.co.kr/album/images/50/202611/20261125.jpg?version=20190621161211.0',\n",
       " 'https://image.bugsm.co.kr/album/images/50/8310/831092.jpg?version=20191121110034.0',\n",
       " 'https://image.bugsm.co.kr/album/images/50/202601/20260104.jpg?version=20191015165459.0',\n",
       " 'https://image.bugsm.co.kr/album/images/50/5707/570711.jpg?version=20200401041656.0',\n",
       " 'https://image.bugsm.co.kr/album/images/50/202519/20251998.jpg?version=20210206002508.0',\n",
       " 'https://image.bugsm.co.kr/album/images/50/202640/20264041.jpg?version=20190910050552.0',\n",
       " 'https://image.bugsm.co.kr/album/images/50/8855/885512.jpg?version=20210114002529.0',\n",
       " 'https://image.bugsm.co.kr/album/images/50/7573/757375.jpg?version=20191026041822.0',\n",
       " 'https://image.bugsm.co.kr/album/images/50/202601/20260103.jpg?version=20200401043256.0',\n",
       " 'https://image.bugsm.co.kr/album/images/50/202676/20267625.jpg?version=20190910050618.0',\n",
       " 'https://image.bugsm.co.kr/album/images/50/202548/20254878.jpg?version=20200401043238.0',\n",
       " 'https://image.bugsm.co.kr/album/images/50/202197/20219783.jpg?version=20190910050157.0',\n",
       " 'https://image.bugsm.co.kr/album/images/50/8030/803031.jpg?version=20200221164011.0',\n",
       " 'https://image.bugsm.co.kr/album/images/50/9027/902792.jpg?version=20200331002401.0',\n",
       " 'https://image.bugsm.co.kr/album/images/50/202564/20256434.jpg?version=20190731055510.0',\n",
       " 'https://image.bugsm.co.kr/album/images/50/202628/20262896.jpg?version=20201121002423.0',\n",
       " 'https://image.bugsm.co.kr/album/images/50/202640/20264041.jpg?version=20190910050552.0',\n",
       " 'https://image.bugsm.co.kr/album/images/50/202696/20269635.jpg?version=20201025143010.0',\n",
       " 'https://image.bugsm.co.kr/album/images/50/202706/20270663.jpg?version=20200401043336.0',\n",
       " 'https://image.bugsm.co.kr/album/images/50/202424/20242437.jpg?version=20201207140145.0',\n",
       " 'https://image.bugsm.co.kr/album/images/50/202198/20219865.jpg?version=20200401043056.0',\n",
       " 'https://image.bugsm.co.kr/album/images/50/202383/20238312.jpg?version=20190515003319.0',\n",
       " 'https://image.bugsm.co.kr/album/images/50/202429/20242912.jpg?version=20210114172017.0',\n",
       " 'https://image.bugsm.co.kr/album/images/50/202646/20264627.jpg?version=20190731055700.0',\n",
       " 'https://image.bugsm.co.kr/album/images/50/8855/885512.jpg?version=20210114002529.0',\n",
       " 'https://image.bugsm.co.kr/album/images/50/202436/20243628.jpg?version=20190821040655.0',\n",
       " 'https://image.bugsm.co.kr/album/images/50/9115/911532.jpg?version=20190727003416.0',\n",
       " 'https://image.bugsm.co.kr/album/images/50/202509/20250975.jpg?version=20200401043226.0',\n",
       " 'https://image.bugsm.co.kr/album/images/50/8579/857992.jpg?version=20191211013004.0',\n",
       " 'https://image.bugsm.co.kr/album/images/50/202662/20266298.jpg?version=20190910050608.0',\n",
       " 'https://image.bugsm.co.kr/album/images/50/202358/20235897.jpg?version=20200401043141.0',\n",
       " 'https://image.bugsm.co.kr/album/images/50/202429/20242912.jpg?version=20210114172017.0',\n",
       " 'https://image.bugsm.co.kr/album/images/50/202648/20264861.jpg?version=20190830183034.0',\n",
       " 'https://image.bugsm.co.kr/album/images/50/201687/20168753.jpg?version=20210114172012.0',\n",
       " 'https://image.bugsm.co.kr/album/images/50/8855/885512.jpg?version=20210114002529.0',\n",
       " 'https://image.bugsm.co.kr/album/images/50/202198/20219840.jpg?version=20200401043056.0',\n",
       " 'https://image.bugsm.co.kr/album/images/50/8399/839973.jpg?version=20200910002439.0']"
      ]
     },
     "execution_count": 267,
     "metadata": {},
     "output_type": "execute_result"
    }
   ],
   "source": [
    "imgs = []\n",
    "cnt = 0\n",
    "for tr in tr_list:\n",
    "    try:\n",
    "        img = tr.find(\"a\", {\"class\":\"thumbnail\"}).find(\"img\").get(\"src\")\n",
    "        imgname = str(rankings[cnt]) + \"_\" + str(songs[cnt])\n",
    "        imgname = re.sub('[-=.#/?:$\\\\n\\\\}]', '', imgname) + \".jpg\"\n",
    "        cnt += 1\n",
    "        urllib.request.urlretrieve(img, f\"{date}\\img\\\\\"+ imgname)\n",
    "        imgs.append(img)\n",
    "    except:\n",
    "        img = tr.find(\"a\", {\"class\":\"thumbnail\"}).find(\"img\").get(\"src\")\n",
    "        imgname = str(rankings[cnt+1]) + \"_\" + str(songs[cnt+1])\n",
    "        imgname = re.sub('[-=.#/[?:$\\\\n\\\\}]', '', imgname) + \".jpg\"\n",
    "        cnt += 1\n",
    "        urllib.request.urlretrieve(img, f\"{date}\\img\\\\\"+ imgname)\n",
    "        imgs.append(img)\n",
    "imgs"
   ]
  },
  {
   "cell_type": "code",
   "execution_count": null,
   "id": "written-slave",
   "metadata": {},
   "outputs": [],
   "source": []
  },
  {
   "cell_type": "code",
   "execution_count": null,
   "id": "naughty-smooth",
   "metadata": {},
   "outputs": [],
   "source": []
  },
  {
   "cell_type": "code",
   "execution_count": null,
   "id": "dress-springfield",
   "metadata": {},
   "outputs": [],
   "source": []
  }
 ],
 "metadata": {
  "kernelspec": {
   "display_name": "Python 3",
   "language": "python",
   "name": "python3"
  },
  "language_info": {
   "codemirror_mode": {
    "name": "ipython",
    "version": 3
   },
   "file_extension": ".py",
   "mimetype": "text/x-python",
   "name": "python",
   "nbconvert_exporter": "python",
   "pygments_lexer": "ipython3",
   "version": "3.9.1"
  }
 },
 "nbformat": 4,
 "nbformat_minor": 5
}

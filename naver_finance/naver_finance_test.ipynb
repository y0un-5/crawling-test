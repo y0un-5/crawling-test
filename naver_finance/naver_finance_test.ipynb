{
 "cells": [
  {
   "cell_type": "code",
   "execution_count": 122,
   "id": "correct-planet",
   "metadata": {},
   "outputs": [],
   "source": [
    "# -*- encoding: utf-8 -*-\n",
    "\n",
    "import requests\n",
    "from bs4 import BeautifulSoup\n",
    "\n",
    "from time import sleep\n",
    "\n",
    "import csv\n",
    "\n",
    "def FindNaverStock(code, ran, slptime):\n",
    "    page = 1\n",
    "    rows = []\n",
    "    for page in range(1, ran):\n",
    "\n",
    "        url = f\"https://finance.naver.com/item/sise_day.nhn?code={code}&page={page}\"\n",
    "        response = requests.get(url, headers = {\"User-Agent\":\"Mozilla/5.0\"})\n",
    "\n",
    "        text = response.text\n",
    "        html = BeautifulSoup(text, 'html.parser')\n",
    "\n",
    "        tr_list = html.find(\"table\").find_all(\"tr\", {\"onmouseover\":\"mouseOver(this)\"})\n",
    "\n",
    "        for i in range(0, 10):\n",
    "            tr = tr_list[i]\n",
    "            td_list = tr.find_all(\"td\")\n",
    "            del td_list[2]\n",
    "            row = []\n",
    "\n",
    "            for td in td_list:\n",
    "                text = td.find(\"span\").text\n",
    "                row.append(text)\n",
    "\n",
    "            for i in range(1, len(row)):\n",
    "                row[i] = int(row[i].replace(',',''))\n",
    "            rows.append(row)\n",
    "    sleep(slptime)\n",
    "    return rows\n",
    "\n",
    "rows = FindNaverStock(\"005930\", 11, 1)\n",
    "\n",
    "columns = [\"날짜\", \"종가\", \"시가\", \"고가\", \"저가\", \"거래량\"]\n",
    "wfile = open(f\"samsung_stock.csv\", \"w\", newline=\"\", encoding=\"UTF-8-sig\")\n",
    "csvfile = csv.writer(wfile)\n",
    "csvfile.writerow(columns)\n",
    "csvfile.writerows(rows)\n",
    "wfile.close()"
   ]
  },
  {
   "cell_type": "code",
   "execution_count": null,
   "id": "aboriginal-tampa",
   "metadata": {},
   "outputs": [],
   "source": []
  },
  {
   "cell_type": "code",
   "execution_count": null,
   "id": "level-newspaper",
   "metadata": {},
   "outputs": [],
   "source": []
  },
  {
   "cell_type": "code",
   "execution_count": null,
   "id": "circular-monthly",
   "metadata": {},
   "outputs": [],
   "source": []
  },
  {
   "cell_type": "code",
   "execution_count": null,
   "id": "taken-drive",
   "metadata": {},
   "outputs": [],
   "source": []
  }
 ],
 "metadata": {
  "kernelspec": {
   "display_name": "Python 3",
   "language": "python",
   "name": "python3"
  },
  "language_info": {
   "codemirror_mode": {
    "name": "ipython",
    "version": 3
   },
   "file_extension": ".py",
   "mimetype": "text/x-python",
   "name": "python",
   "nbconvert_exporter": "python",
   "pygments_lexer": "ipython3",
   "version": "3.9.1"
  }
 },
 "nbformat": 4,
 "nbformat_minor": 5
}

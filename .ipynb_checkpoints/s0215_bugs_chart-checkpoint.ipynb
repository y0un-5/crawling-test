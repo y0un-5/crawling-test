{
 "cells": [
  {
   "cell_type": "code",
   "execution_count": 1,
   "id": "tutorial-aquarium",
   "metadata": {},
   "outputs": [],
   "source": [
    "import requests\n",
    "from bs4 import BeautifulSoup"
   ]
  },
  {
   "cell_type": "code",
   "execution_count": 2,
   "id": "prospective-contractor",
   "metadata": {},
   "outputs": [],
   "source": [
    "url = \"https://music.bugs.co.kr/chart\""
   ]
  },
  {
   "cell_type": "code",
   "execution_count": 3,
   "id": "coordinated-fortune",
   "metadata": {},
   "outputs": [
    {
     "data": {
      "text/plain": [
       "'text/html;charset=UTF-8'"
      ]
     },
     "execution_count": 3,
     "metadata": {},
     "output_type": "execute_result"
    }
   ],
   "source": [
    "response = requests.get(url)\n",
    "response.headers['Content-Type']"
   ]
  },
  {
   "cell_type": "code",
   "execution_count": 5,
   "id": "alien-graphics",
   "metadata": {},
   "outputs": [],
   "source": [
    "text = response.text\n",
    "html = BeautifulSoup(text, 'html.parser')"
   ]
  },
  {
   "cell_type": "code",
   "execution_count": 9,
   "id": "voluntary-concentrate",
   "metadata": {},
   "outputs": [
    {
     "data": {
      "text/plain": [
       "100"
      ]
     },
     "execution_count": 9,
     "metadata": {},
     "output_type": "execute_result"
    }
   ],
   "source": [
    "tr_list = html.find(\"article\").find(\"section\").find(\"tbody\").find_all(\"tr\")\n",
    "len(tr_list)"
   ]
  },
  {
   "cell_type": "code",
   "execution_count": 24,
   "id": "english-means",
   "metadata": {},
   "outputs": [
    {
     "data": {
      "text/plain": [
       "['Celebrity',\n",
       " '내 손을 잡아',\n",
       " 'Bang!',\n",
       " '서른 밤째 (바른연애 길잡이 X 윤하 (YOUNHA))',\n",
       " '고백 (바른연애 길잡이 X 허각)',\n",
       " \"I'm Not Cool\",\n",
       " '화(火花)',\n",
       " 'Dynamite',\n",
       " 'Lovesick Girls',\n",
       " '이 밤을 빌려 말해요 (바른연애 길잡이 X 10CM)',\n",
       " '술 한잔 해요',\n",
       " '마음이 그래',\n",
       " '밤하늘의 별을(2020)',\n",
       " 'parachute',\n",
       " '사랑, 이게 맞나 봐',\n",
       " 'Black Mamba',\n",
       " 'What Do I Call You',\n",
       " 'Panorama',\n",
       " 'VVS (Feat. JUSTHIS) (Prod. GroovyRoom)',\n",
       " '내 얘기 같아 (Feat. 헤이즈)',\n",
       " 'Blueming',\n",
       " '바람길',\n",
       " '에잇(Prod.&Feat. SUGA of BTS)',\n",
       " 'Life Goes On',\n",
       " '우린 어쩌다 헤어진 걸까',\n",
       " '잠이 오질 않네요',\n",
       " '아무렇지 않은 사람',\n",
       " '취기를 빌려 (취향저격 그녀 X 산들)',\n",
       " '34+35',\n",
       " 'Rosario (Feat. CL, ZICO)',\n",
       " '휘파람',\n",
       " 'HERO',\n",
       " 'Savage Love (Laxed - Siren Beat) (BTS Remix)',\n",
       " '나랑 같이 걸을래 (바른연애 길잡이 X 적재)',\n",
       " '그대 없이 그대와',\n",
       " '사랑은 (Feat.원슈타인)',\n",
       " 'Your Lights',\n",
       " 'For You (Feat. Crush)',\n",
       " '흔들리는 꽃들 속에서 네 샴푸향이 느껴진거야',\n",
       " '오래된 노래',\n",
       " 'At My Worst',\n",
       " 'CREDIT (Feat. 염따, 기리보이, Zion.T)',\n",
       " '주저하는 연인들을 위해',\n",
       " '모든 날, 모든 순간 (Every day, Every Moment)',\n",
       " 'Dolphin',\n",
       " '이제 나만 믿어요',\n",
       " '가을밤에 든 생각',\n",
       " '누구 없소',\n",
       " '살짝 설렜어 (Nonstop)',\n",
       " '밝게 빛나는 별이 되어 비춰줄게',\n",
       " 'How You Like That',\n",
       " 'I CAN’T STOP ME',\n",
       " '나로 바꾸자 (duet with JYP)',\n",
       " '어떻게 이별까지 사랑하겠어, 널 사랑하는 거지',\n",
       " 'Memories',\n",
       " 'METEOR',\n",
       " '밤편지',\n",
       " '내일이 오면 (Feat. 기리보이, BIG Naughty (서동현))',\n",
       " '시작',\n",
       " 'MAGO',\n",
       " '마지막 날에 (Moving On)',\n",
       " '내 마음이 움찔했던 순간 (취향저격 그녀 X 규현)',\n",
       " '2002',\n",
       " '마음을 드려요',\n",
       " 'Square (2017)',\n",
       " '작은 것들을 위한 시 (Boy With Luv) (Feat. Halsey)',\n",
       " 'ON AIR (Feat. 로꼬, 박재범 & GRAY)',\n",
       " 'Achoo (Feat. pH-1, HAON) (Prod. GroovyRoom)',\n",
       " 'When We Disco (Duet with 선미)',\n",
       " '사라진 모든 것들에게(with ELLE KOREA)',\n",
       " '바람의 노래',\n",
       " 'Bad Boy',\n",
       " '범(feat.Chillin Homie, Kid Milli)',\n",
       " '너도 아는',\n",
       " '아로하',\n",
       " '꿈',\n",
       " '힘든 건 사랑이 아니다',\n",
       " '골목길',\n",
       " '해야',\n",
       " 'Ashes',\n",
       " 'Love poem',\n",
       " '뿌리 (Feat. JUSTHIS) (Prod. GroovyRoom)',\n",
       " '혼술하고 싶은 밤',\n",
       " '어른',\n",
       " 'X (걸어온 길에 꽃밭 따윈 없었죠)',\n",
       " '도망가자 (Run With Me)',\n",
       " '정당방위 (Feat. 우원재, 넉살, 창모)',\n",
       " '어느 60대 노부부이야기',\n",
       " '내 마음에 주단을 깔고',\n",
       " 'MOON',\n",
       " '입김',\n",
       " '추억은 만남보다 이별에 남아',\n",
       " '배 띄워라 (송소희 Ver.)',\n",
       " '꽃바람',\n",
       " '나의 유일한 너에게',\n",
       " '간데요 글쎄',\n",
       " '딩가딩가 (Dingga)',\n",
       " '사모곡',\n",
       " '밤새 (취향저격 그녀 X 카더가든)',\n",
       " '다시 만날까 봐 (Prod.V.O.S)']"
      ]
     },
     "execution_count": 24,
     "metadata": {},
     "output_type": "execute_result"
    }
   ],
   "source": [
    "songs = []\n",
    "for tr in tr_list:\n",
    "    song = tr.find(\"p\", {\"class\":\"title\"}).text.strip()\n",
    "    songs.append(song)\n",
    "songs"
   ]
  },
  {
   "cell_type": "code",
   "execution_count": null,
   "id": "nonprofit-handle",
   "metadata": {},
   "outputs": [],
   "source": []
  }
 ],
 "metadata": {
  "kernelspec": {
   "display_name": "Python 3",
   "language": "python",
   "name": "python3"
  },
  "language_info": {
   "codemirror_mode": {
    "name": "ipython",
    "version": 3
   },
   "file_extension": ".py",
   "mimetype": "text/x-python",
   "name": "python",
   "nbconvert_exporter": "python",
   "pygments_lexer": "ipython3",
   "version": "3.9.1"
  }
 },
 "nbformat": 4,
 "nbformat_minor": 5
}

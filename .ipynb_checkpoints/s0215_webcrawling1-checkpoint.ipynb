{
 "cells": [
  {
   "cell_type": "code",
   "execution_count": 1,
   "id": "posted-observation",
   "metadata": {},
   "outputs": [],
   "source": [
    "import bs4"
   ]
  },
  {
   "cell_type": "code",
   "execution_count": 6,
   "id": "renewable-refund",
   "metadata": {},
   "outputs": [
    {
     "name": "stdout",
     "output_type": "stream",
     "text": [
      "<html>\n",
      "    <head>\n",
      "    </head>\n",
      "    <body>\n",
      "       <ul>Language\n",
      "           <li>Java</li>\n",
      "           <li>C</li>\n",
      "           <li>C++</li>\n",
      "           <li>Python</li>\n",
      "           <li>JavaScript</li>\n",
      "           <li>R</li>\n",
      "       </ul>\n",
      "       <ol type=\"A\">OS\n",
      "           <li>Unix</li>\n",
      "           <li>Linux</li>\n",
      "           <li>Windows</li>\n",
      "           <li>MAC</li>\n",
      "           <li>Android</li> \n",
      "       </ol>\n",
      "    </body>\n",
      "</html>\n",
      "\n"
     ]
    },
    {
     "data": {
      "text/plain": [
       "str"
      ]
     },
     "execution_count": 6,
     "metadata": {},
     "output_type": "execute_result"
    }
   ],
   "source": [
    "file = open(\"index\\index.html\", \"r\")\n",
    "read = file.read()\n",
    "print(read)\n",
    "type(read)"
   ]
  },
  {
   "cell_type": "code",
   "execution_count": 8,
   "id": "biblical-attention",
   "metadata": {},
   "outputs": [
    {
     "name": "stdout",
     "output_type": "stream",
     "text": [
      "<html>\n",
      "<head>\n",
      "</head>\n",
      "<body>\n",
      "<ul>Language\n",
      "           <li>Java</li>\n",
      "<li>C</li>\n",
      "<li>C++</li>\n",
      "<li>Python</li>\n",
      "<li>JavaScript</li>\n",
      "<li>R</li>\n",
      "</ul>\n",
      "<ol type=\"A\">OS\n",
      "           <li>Unix</li>\n",
      "<li>Linux</li>\n",
      "<li>Windows</li>\n",
      "<li>MAC</li>\n",
      "<li>Android</li>\n",
      "</ol>\n",
      "</body>\n",
      "</html>\n",
      "\n"
     ]
    },
    {
     "data": {
      "text/plain": [
       "bs4.BeautifulSoup"
      ]
     },
     "execution_count": 8,
     "metadata": {},
     "output_type": "execute_result"
    }
   ],
   "source": [
    "file = open(\"index\\index.html\", \"r\")\n",
    "read = file.read()\n",
    "html = bs4.BeautifulSoup(read, 'html.parser')\n",
    "print(html)\n",
    "type(html)"
   ]
  },
  {
   "cell_type": "code",
   "execution_count": 11,
   "id": "aboriginal-glossary",
   "metadata": {},
   "outputs": [
    {
     "data": {
      "text/plain": [
       "[<li>Java</li>,\n",
       " <li>C</li>,\n",
       " <li>C++</li>,\n",
       " <li>Python</li>,\n",
       " <li>JavaScript</li>,\n",
       " <li>R</li>,\n",
       " <li>Unix</li>,\n",
       " <li>Linux</li>,\n",
       " <li>Windows</li>,\n",
       " <li>MAC</li>,\n",
       " <li>Android</li>]"
      ]
     },
     "execution_count": 11,
     "metadata": {},
     "output_type": "execute_result"
    }
   ],
   "source": [
    "html.find_all(\"li\")"
   ]
  },
  {
   "cell_type": "code",
   "execution_count": 12,
   "id": "featured-chess",
   "metadata": {},
   "outputs": [
    {
     "data": {
      "text/plain": [
       "<li>Java</li>"
      ]
     },
     "execution_count": 12,
     "metadata": {},
     "output_type": "execute_result"
    }
   ],
   "source": [
    "html.find_all(\"li\")[0]"
   ]
  },
  {
   "cell_type": "code",
   "execution_count": 13,
   "id": "brown-kentucky",
   "metadata": {},
   "outputs": [
    {
     "data": {
      "text/plain": [
       "<ul>Language\n",
       "           <li>Java</li>\n",
       "<li>C</li>\n",
       "<li>C++</li>\n",
       "<li>Python</li>\n",
       "<li>JavaScript</li>\n",
       "<li>R</li>\n",
       "</ul>"
      ]
     },
     "execution_count": 13,
     "metadata": {},
     "output_type": "execute_result"
    }
   ],
   "source": [
    "html.find(\"ul\")"
   ]
  },
  {
   "cell_type": "code",
   "execution_count": 14,
   "id": "willing-georgia",
   "metadata": {},
   "outputs": [
    {
     "data": {
      "text/plain": [
       "<li>Java</li>"
      ]
     },
     "execution_count": 14,
     "metadata": {},
     "output_type": "execute_result"
    }
   ],
   "source": [
    "html.find(\"ul\").find(\"li\")"
   ]
  },
  {
   "cell_type": "code",
   "execution_count": 15,
   "id": "exclusive-nicholas",
   "metadata": {},
   "outputs": [
    {
     "data": {
      "text/plain": [
       "[<li>Java</li>,\n",
       " <li>C</li>,\n",
       " <li>C++</li>,\n",
       " <li>Python</li>,\n",
       " <li>JavaScript</li>,\n",
       " <li>R</li>]"
      ]
     },
     "execution_count": 15,
     "metadata": {},
     "output_type": "execute_result"
    }
   ],
   "source": [
    "html.find(\"ul\").find_all(\"li\")"
   ]
  },
  {
   "cell_type": "code",
   "execution_count": 17,
   "id": "announced-formula",
   "metadata": {},
   "outputs": [
    {
     "data": {
      "text/plain": [
       "['Java', 'C', 'C++', 'Python', 'JavaScript', 'R']"
      ]
     },
     "execution_count": 17,
     "metadata": {},
     "output_type": "execute_result"
    }
   ],
   "source": [
    "row = []\n",
    "li_list = html.find(\"ul\").find_all(\"li\")\n",
    "for li in li_list:\n",
    "    row.append(li.text)\n",
    "row"
   ]
  },
  {
   "cell_type": "code",
   "execution_count": 18,
   "id": "planned-physiology",
   "metadata": {},
   "outputs": [
    {
     "data": {
      "text/plain": [
       "<ol type=\"A\">OS\n",
       "           <li>Unix</li>\n",
       "<li>Linux</li>\n",
       "<li>Windows</li>\n",
       "<li>MAC</li>\n",
       "<li>Android</li>\n",
       "</ol>"
      ]
     },
     "execution_count": 18,
     "metadata": {},
     "output_type": "execute_result"
    }
   ],
   "source": [
    "html.find(\"ol\")"
   ]
  },
  {
   "cell_type": "code",
   "execution_count": 20,
   "id": "missing-study",
   "metadata": {},
   "outputs": [
    {
     "data": {
      "text/plain": [
       "['Unix', 'Linux', 'Windows', 'MAC', 'Android']"
      ]
     },
     "execution_count": 20,
     "metadata": {},
     "output_type": "execute_result"
    }
   ],
   "source": [
    "row = []\n",
    "li_list = html.find(\"ol\").find_all(\"li\")\n",
    "for li in li_list:\n",
    "    row.append(li.text)\n",
    "row"
   ]
  },
  {
   "cell_type": "code",
   "execution_count": 37,
   "id": "dressed-doubt",
   "metadata": {},
   "outputs": [
    {
     "data": {
      "text/plain": [
       "[['Java', 'C', 'C++', 'Python', 'JavaScript', 'R'],\n",
       " ['Unix', 'Linux', 'Windows', 'MAC', 'Android']]"
      ]
     },
     "execution_count": 37,
     "metadata": {},
     "output_type": "execute_result"
    }
   ],
   "source": [
    "rows = []\n",
    "tags = [\"ul\", \"ol\"]\n",
    "for tag in tags:\n",
    "    row = []\n",
    "    li_list = html.find(f\"{tag}\").find_all(\"li\")\n",
    "    for li in li_list:\n",
    "        row.append(li.text)\n",
    "    rows.append(row)\n",
    "rows"
   ]
  },
  {
   "cell_type": "code",
   "execution_count": null,
   "id": "respective-greenhouse",
   "metadata": {},
   "outputs": [],
   "source": []
  }
 ],
 "metadata": {
  "kernelspec": {
   "display_name": "Python 3",
   "language": "python",
   "name": "python3"
  },
  "language_info": {
   "codemirror_mode": {
    "name": "ipython",
    "version": 3
   },
   "file_extension": ".py",
   "mimetype": "text/x-python",
   "name": "python",
   "nbconvert_exporter": "python",
   "pygments_lexer": "ipython3",
   "version": "3.9.1"
  }
 },
 "nbformat": 4,
 "nbformat_minor": 5
}

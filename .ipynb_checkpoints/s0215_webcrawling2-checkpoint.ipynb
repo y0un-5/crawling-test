{
 "cells": [
  {
   "cell_type": "code",
   "execution_count": 86,
   "id": "valued-bread",
   "metadata": {},
   "outputs": [],
   "source": [
    "# table1.html table2.html table3.html\n",
    "from bs4 import BeautifulSoup as BS"
   ]
  },
  {
   "cell_type": "code",
   "execution_count": 87,
   "id": "indonesian-concern",
   "metadata": {},
   "outputs": [],
   "source": [
    "file = open(\"index/table3.html\", \"r\")\n",
    "read = file.read()\n",
    "html = BS(read, 'html.parser')"
   ]
  },
  {
   "cell_type": "code",
   "execution_count": 88,
   "id": "empirical-sullivan",
   "metadata": {},
   "outputs": [
    {
     "data": {
      "text/plain": [
       "3"
      ]
     },
     "execution_count": 88,
     "metadata": {},
     "output_type": "execute_result"
    }
   ],
   "source": [
    "len(html.find_all(\"tr\"))"
   ]
  },
  {
   "cell_type": "code",
   "execution_count": 89,
   "id": "random-helmet",
   "metadata": {},
   "outputs": [
    {
     "name": "stdout",
     "output_type": "stream",
     "text": [
      "[['1번째 행에 1번째 내용입니다.', '1번째 행에 2번째 내용입니다.'], ['2번째 행에 1번째 내용입니다.', '2번째 행에 2번째 내용입니다.'], ['3번째 행에 1번째 내용입니다.', '3번째 행에 2번째 내용입니다.']]\n"
     ]
    }
   ],
   "source": [
    "tr = tr_list[0]\n",
    "rows = []\n",
    "for tr in tr_list:\n",
    "    row = []\n",
    "    td_list = tr.find_all(\"td\")\n",
    "    for td in td_list:\n",
    "        row.append(td.text)\n",
    "    rows.append(row)\n",
    "print(rows)"
   ]
  },
  {
   "cell_type": "code",
   "execution_count": null,
   "id": "criminal-wheat",
   "metadata": {},
   "outputs": [],
   "source": []
  }
 ],
 "metadata": {
  "kernelspec": {
   "display_name": "Python 3",
   "language": "python",
   "name": "python3"
  },
  "language_info": {
   "codemirror_mode": {
    "name": "ipython",
    "version": 3
   },
   "file_extension": ".py",
   "mimetype": "text/x-python",
   "name": "python",
   "nbconvert_exporter": "python",
   "pygments_lexer": "ipython3",
   "version": "3.9.1"
  }
 },
 "nbformat": 4,
 "nbformat_minor": 5
}

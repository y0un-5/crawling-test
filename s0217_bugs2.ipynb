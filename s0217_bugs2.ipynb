{
 "cells": [
  {
   "cell_type": "code",
   "execution_count": 61,
   "id": "devoted-bradford",
   "metadata": {},
   "outputs": [],
   "source": [
    "import requests\n",
    "from bs4 import BeautifulSoup\n",
    "\n",
    "def extract_professor(tr):\n",
    "    professor = []\n",
    "    for attr in [\"number\", \"professor\", \"lecture\", \"grade\", \"evaluation\"]:\n",
    "        text = tr.find(\"td\", {\"class\":attr}).text\n",
    "        professor.append(text)\n",
    "    return professor"
   ]
  },
  {
   "cell_type": "code",
   "execution_count": 62,
   "id": "fourth-karaoke",
   "metadata": {},
   "outputs": [],
   "source": [
    "url = \"http://192.168.0.155/professors.html\""
   ]
  },
  {
   "cell_type": "code",
   "execution_count": 63,
   "id": "ultimate-ceremony",
   "metadata": {},
   "outputs": [
    {
     "data": {
      "text/plain": [
       "'text/html; charset=UTF-8'"
      ]
     },
     "execution_count": 63,
     "metadata": {},
     "output_type": "execute_result"
    }
   ],
   "source": [
    "response = requests.get(url)\n",
    "response.headers['Content-Type']"
   ]
  },
  {
   "cell_type": "code",
   "execution_count": 64,
   "id": "editorial-atlas",
   "metadata": {},
   "outputs": [],
   "source": [
    "text = response.text\n",
    "html = BeautifulSoup(text, 'html.parser')"
   ]
  },
  {
   "cell_type": "code",
   "execution_count": 65,
   "id": "blocked-covering",
   "metadata": {},
   "outputs": [
    {
     "data": {
      "text/plain": [
       "5"
      ]
     },
     "execution_count": 65,
     "metadata": {},
     "output_type": "execute_result"
    }
   ],
   "source": [
    "tr_list = html.find(\"table\").find(\"tbody\").find_all(\"tr\")\n",
    "len(tr_list)"
   ]
  },
  {
   "cell_type": "code",
   "execution_count": 66,
   "id": "exciting-detector",
   "metadata": {},
   "outputs": [
    {
     "data": {
      "text/plain": [
       "[['1', 'John', 'C language', '2', '1P'],\n",
       " ['2', 'Kim', 'JAVA', '3', '2.5P'],\n",
       " ['3', 'Gun', 'PHP / pythion', '1', '5P'],\n",
       " ['4', 'Hun', 'Soccer', '2', '5P'],\n",
       " ['5', 'Coner', 'Smart Car', '1', '4P']]"
      ]
     },
     "execution_count": 66,
     "metadata": {},
     "output_type": "execute_result"
    }
   ],
   "source": [
    "professors = []\n",
    "for tr in tr_list:\n",
    "    professor = extract_professor(tr)\n",
    "    professors.append(professor)\n",
    "professors"
   ]
  },
  {
   "cell_type": "code",
   "execution_count": null,
   "id": "residential-venezuela",
   "metadata": {},
   "outputs": [],
   "source": []
  }
 ],
 "metadata": {
  "kernelspec": {
   "display_name": "Python 3",
   "language": "python",
   "name": "python3"
  },
  "language_info": {
   "codemirror_mode": {
    "name": "ipython",
    "version": 3
   },
   "file_extension": ".py",
   "mimetype": "text/x-python",
   "name": "python",
   "nbconvert_exporter": "python",
   "pygments_lexer": "ipython3",
   "version": "3.9.1"
  }
 },
 "nbformat": 4,
 "nbformat_minor": 5
}
